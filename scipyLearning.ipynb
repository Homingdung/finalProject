{
 "cells": [
  {
   "cell_type": "markdown",
   "id": "301e4719",
   "metadata": {},
   "source": [
    "# Optimization"
   ]
  },
  {
   "cell_type": "code",
   "execution_count": 5,
   "id": "6470ed4f",
   "metadata": {},
   "outputs": [],
   "source": [
    "import numpy as np\n",
    "import matplotlib.pyplot as plt\n",
    "import scipy as sp"
   ]
  },
  {
   "cell_type": "code",
   "execution_count": 6,
   "id": "055f254a",
   "metadata": {},
   "outputs": [],
   "source": [
    "from scipy.optimize import minimize"
   ]
  },
  {
   "cell_type": "code",
   "execution_count": 7,
   "id": "c6592628",
   "metadata": {},
   "outputs": [],
   "source": [
    "def f(x):\n",
    "    return (x-3)**2\n",
    "\n",
    "res = minimize(f,2)"
   ]
  },
  {
   "cell_type": "code",
   "execution_count": 8,
   "id": "bb7d8ebb",
   "metadata": {},
   "outputs": [
    {
     "data": {
      "text/plain": [
       "array([2.99999999])"
      ]
     },
     "execution_count": 8,
     "metadata": {},
     "output_type": "execute_result"
    }
   ],
   "source": [
    "res.x"
   ]
  },
  {
   "cell_type": "code",
   "execution_count": 14,
   "id": "7cee8b05",
   "metadata": {},
   "outputs": [],
   "source": [
    "f = lambda x: (x[0] - 1)**2 + (x[1]-2.5)**2\n",
    "# constraints\n",
    "cons = ({'type':'ineq','fun':lambda x:x[0]-2*x[1]+2},\n",
    "        {'type':'ineq','fun': lambda x:-x[0]-2*x[1]+6},\n",
    "        {'type':'ineq','fun': lambda x:-x[0]+x[1]+2})\n",
    "\n",
    "bnds = ((0,None),(0,None))\n",
    "res = minimize(f,(2,0),bounds = bnds,constraints = cons)"
   ]
  },
  {
   "cell_type": "code",
   "execution_count": 15,
   "id": "83a05c7b",
   "metadata": {},
   "outputs": [
    {
     "data": {
      "text/plain": [
       "array([1.4, 1.7])"
      ]
     },
     "execution_count": 15,
     "metadata": {},
     "output_type": "execute_result"
    }
   ],
   "source": [
    "res.x"
   ]
  },
  {
   "cell_type": "code",
   "execution_count": 16,
   "id": "bb9d6197",
   "metadata": {},
   "outputs": [],
   "source": [
    "minimize? # help "
   ]
  },
  {
   "cell_type": "markdown",
   "id": "9183c95b",
   "metadata": {},
   "source": [
    "# Interpolation"
   ]
  },
  {
   "cell_type": "code",
   "execution_count": 18,
   "id": "01ede4ff",
   "metadata": {},
   "outputs": [
    {
     "data": {
      "text/plain": [
       "<matplotlib.collections.PathCollection at 0x115429d60>"
      ]
     },
     "execution_count": 18,
     "metadata": {},
     "output_type": "execute_result"
    },
    {
     "data": {
      "image/png": "[encoded data removed]",
      "text/plain": [
       "<Figure size 432x288 with 1 Axes>"
      ]
     },
     "metadata": {
      "needs_background": "light"
     },
     "output_type": "display_data"
    }
   ],
   "source": [
    "x = np.linspace(0,10,10)\n",
    "y = x**2 * np.sin(x)\n",
    "plt.scatter(x,y)"
   ]
  },
  {
   "cell_type": "code",
   "execution_count": 27,
   "id": "a18faeb0",
   "metadata": {},
   "outputs": [],
   "source": [
    "from scipy.interpolate import interp1d"
   ]
  },
  {
   "cell_type": "code",
   "execution_count": 36,
   "id": "bf963c39",
   "metadata": {},
   "outputs": [],
   "source": [
    "f = interp1d(x,y,kind = 'linear')\n",
    "x_dense = np.linspace(0,10,100)\n",
    "y_dense = f(x_dense)"
   ]
  },
  {
   "cell_type": "code",
   "execution_count": 37,
   "id": "35f8aba0",
   "metadata": {},
   "outputs": [
    {
     "data": {
      "text/plain": [
       "[<matplotlib.lines.Line2D at 0x115966d90>]"
      ]
     },
     "execution_count": 37,
     "metadata": {},
     "output_type": "execute_result"
    },
    {
     "data": {
      "image/png": "[encoded data removed]",
      "text/plain": [
       "<Figure size 432x288 with 1 Axes>"
      ]
     },
     "metadata": {
      "needs_background": "light"
     },
     "output_type": "display_data"
    }
   ],
   "source": [
    "plt.plot(x_dense,y_dense)"
   ]
  },
  {
   "cell_type": "markdown",
   "id": "a025e9c4",
   "metadata": {},
   "source": [
    "# Curve Fitting"
   ]
  },
  {
   "cell_type": "code",
   "execution_count": 38,
   "id": "d8365c4d",
   "metadata": {},
   "outputs": [],
   "source": [
    "x_data = np.linspace(0,10,10)\n",
    "y_data = 3*x_data**2 + 2"
   ]
  },
  {
   "cell_type": "code",
   "execution_count": 39,
   "id": "2d5e0160",
   "metadata": {},
   "outputs": [
    {
     "data": {
      "text/plain": [
       "<matplotlib.collections.PathCollection at 0x1159d2820>"
      ]
     },
     "execution_count": 39,
     "metadata": {},
     "output_type": "execute_result"
    },
    {
     "data": {
      "image/png": "[encoded data removed]",
      "text/plain": [
       "<Figure size 432x288 with 1 Axes>"
      ]
     },
     "metadata": {
      "needs_background": "light"
     },
     "output_type": "display_data"
    }
   ],
   "source": [
    "plt.scatter(x_data,y_data)"
   ]
  },
  {
   "cell_type": "code",
   "execution_count": 44,
   "id": "df2408b7",
   "metadata": {},
   "outputs": [],
   "source": [
    "from scipy.optimize import curve_fit\n",
    "def func(x,a,b):\n",
    "    return a*x**2 +b\n",
    "\n",
    "popt, pcov = curve_fit(func,x_data,y_data,p0=(1,1))"
   ]
  },
  {
   "cell_type": "code",
   "execution_count": 45,
   "id": "7f6165e5",
   "metadata": {},
   "outputs": [
    {
     "data": {
      "text/plain": [
       "array([3., 2.])"
      ]
     },
     "execution_count": 45,
     "metadata": {},
     "output_type": "execute_result"
    }
   ],
   "source": [
    "popt"
   ]
  },
  {
   "cell_type": "markdown",
   "id": "dbd04ca5",
   "metadata": {},
   "source": [
    "# Speical Functions"
   ]
  },
  {
   "cell_type": "code",
   "execution_count": 46,
   "id": "d6c9ed78",
   "metadata": {},
   "outputs": [],
   "source": [
    "from scipy.special import legendre"
   ]
  },
  {
   "cell_type": "code",
   "execution_count": 48,
   "id": "8b381947",
   "metadata": {},
   "outputs": [
    {
     "data": {
      "image/png": "[encoded data removed]",
      "text/plain": [
       "<Figure size 432x288 with 1 Axes>"
      ]
     },
     "metadata": {
      "needs_background": "light"
     },
     "output_type": "display_data"
    }
   ],
   "source": [
    "x = np.linspace(0,1,100)\n",
    "plt.plot(x,legendre(6)(x))\n",
    "plt.show()"
   ]
  },
  {
   "cell_type": "code",
   "execution_count": 52,
   "id": "8f118ff0",
   "metadata": {},
   "outputs": [],
   "source": [
    "from scipy.special import jv"
   ]
  },
  {
   "cell_type": "code",
   "execution_count": 54,
   "id": "54090268",
   "metadata": {},
   "outputs": [
    {
     "data": {
      "image/png": "[encoded data removed]",
      "text/plain": [
       "<Figure size 432x288 with 1 Axes>"
      ]
     },
     "metadata": {
      "needs_background": "light"
     },
     "output_type": "display_data"
    }
   ],
   "source": [
    "x = np.linspace(0,10,100)\n",
    "plt.plot(x,jv(3,x))\n",
    "plt.show()"
   ]
  },
  {
   "cell_type": "markdown",
   "id": "e8c449c6",
   "metadata": {},
   "source": [
    "# Differentiation"
   ]
  },
  {
   "cell_type": "code",
   "execution_count": 55,
   "id": "d6ac7057",
   "metadata": {},
   "outputs": [],
   "source": [
    "from scipy.misc import derivative"
   ]
  },
  {
   "cell_type": "code",
   "execution_count": 58,
   "id": "15688523",
   "metadata": {},
   "outputs": [],
   "source": [
    "def f(x):\n",
    "    return x**2 * np.sin(2*x) * np.exp(-x)\n",
    "\n",
    "x = np.linspace(0,1,100)"
   ]
  },
  {
   "cell_type": "code",
   "execution_count": 65,
   "id": "31081ec4",
   "metadata": {},
   "outputs": [
    {
     "data": {
      "text/plain": [
       "[<matplotlib.lines.Line2D at 0x119a88c40>]"
      ]
     },
     "execution_count": 65,
     "metadata": {},
     "output_type": "execute_result"
    },
    {
     "data": {
      "image/png": "[encoded data removed]",
      "text/plain": [
       "<Figure size 432x288 with 1 Axes>"
      ]
     },
     "metadata": {
      "needs_background": "light"
     },
     "output_type": "display_data"
    }
   ],
   "source": [
    "plt.plot(x,f(x))\n",
    "plt.plot(x,derivative(f,x,dx = 1e-6))\n",
    "plt.plot(x,derivative(f,x,dx = 1e-6,n=2)) # higher order derivatives"
   ]
  },
  {
   "cell_type": "markdown",
   "id": "a1ec637d",
   "metadata": {},
   "source": [
    "# Integration"
   ]
  },
  {
   "cell_type": "markdown",
   "id": "fae1cbd7",
   "metadata": {},
   "source": [
    "$$\\int_0^1 x^2 \\sin(2x) e^{-x}dx$$"
   ]
  },
  {
   "cell_type": "code",
   "execution_count": 66,
   "id": "a9e7b579",
   "metadata": {},
   "outputs": [],
   "source": [
    "from scipy.integrate import quad"
   ]
  },
  {
   "cell_type": "code",
   "execution_count": 67,
   "id": "49e3d2af",
   "metadata": {},
   "outputs": [],
   "source": [
    "integrand = lambda x: x**2 *np.sin(x) * np.exp(-x)\n",
    "integral, integral_error = quad(integrand,0,1)"
   ]
  },
  {
   "cell_type": "markdown",
   "id": "ec3b317c",
   "metadata": {},
   "source": [
    "$$\\int_0^1\\int_{-x}^{x^2} \\sin(x+y^2)dydx$$"
   ]
  },
  {
   "cell_type": "code",
   "execution_count": 70,
   "id": "6f4a9b95",
   "metadata": {},
   "outputs": [],
   "source": [
    "from scipy.integrate import dblquad"
   ]
  },
  {
   "cell_type": "code",
   "execution_count": 71,
   "id": "fe56ca53",
   "metadata": {},
   "outputs": [],
   "source": [
    "integrand = lambda x, y:np.sin(x+y**2)\n",
    "#upper and lower bound are both functions\n",
    "lwr_y = lambda x:-x\n",
    "upr_y = lambda x:x**2\n",
    "integral, integral_error = dblquad(integrand,0,1,lwr_y,upr_y)"
   ]
  },
  {
   "cell_type": "markdown",
   "id": "ef267db2",
   "metadata": {},
   "source": [
    "# Differential Equations"
   ]
  },
  {
   "cell_type": "markdown",
   "id": "9e273482",
   "metadata": {},
   "source": [
    "Air friction while falling"
   ]
  },
  {
   "cell_type": "markdown",
   "id": "6beee813",
   "metadata": {},
   "source": [
    "$$v'-\\alpha v^2+\\beta = 0, v(0)=0$$"
   ]
  },
  {
   "cell_type": "code",
   "execution_count": 74,
   "id": "e875ea99",
   "metadata": {},
   "outputs": [],
   "source": [
    "from scipy.integrate import odeint"
   ]
  },
  {
   "cell_type": "markdown",
   "id": "0239d2eb",
   "metadata": {},
   "source": [
    "All the information about ODE"
   ]
  },
  {
   "cell_type": "code",
   "execution_count": 76,
   "id": "b98ef330",
   "metadata": {},
   "outputs": [],
   "source": [
    "def dvdt(v,t):\n",
    "    #set parameters as 3 and 5\n",
    "    return 3*v**2 - 5\n",
    "v0 = 0"
   ]
  },
  {
   "cell_type": "code",
   "execution_count": 77,
   "id": "c16de735",
   "metadata": {},
   "outputs": [],
   "source": [
    "#solve the ODE\n",
    "t = np.linspace(0,1,100)\n",
    "sol = odeint(dvdt,v0,t)"
   ]
  },
  {
   "cell_type": "code",
   "execution_count": 83,
   "id": "6c070414",
   "metadata": {},
   "outputs": [
    {
     "data": {
      "text/plain": [
       "[<matplotlib.lines.Line2D at 0x1199e0a90>]"
      ]
     },
     "execution_count": 83,
     "metadata": {},
     "output_type": "execute_result"
    },
    {
     "data": {
      "image/png": "[encoded data removed]",
      "text/plain": [
       "<Figure size 432x288 with 1 Axes>"
      ]
     },
     "metadata": {
      "needs_background": "light"
     },
     "output_type": "display_data"
    }
   ],
   "source": [
    "plt.plot(t,sol.T[0])"
   ]
  },
  {
   "cell_type": "markdown",
   "id": "a6346cff",
   "metadata": {},
   "source": [
    "$$y_1'=y_1+y_2^2+3x,y_1(0)=0$$\n",
    "$$y_2'=3y_1+y_2^3-\\cos(x),y_2(0)=0$$"
   ]
  },
  {
   "cell_type": "code",
   "execution_count": 93,
   "id": "b151fbf6",
   "metadata": {},
   "outputs": [
    {
     "data": {
      "text/plain": [
       "[<matplotlib.lines.Line2D at 0x1199eda90>]"
      ]
     },
     "execution_count": 93,
     "metadata": {},
     "output_type": "execute_result"
    },
    {
     "data": {
      "image/png": "[encoded data removed]",
      "text/plain": [
       "<Figure size 432x288 with 1 Axes>"
      ]
     },
     "metadata": {
      "needs_background": "light"
     },
     "output_type": "display_data"
    }
   ],
   "source": [
    "def dSdx(S,x):\n",
    "    y1, y2 = S\n",
    "    return [y1+y2**2+3*x,3*y1+y2**3-np.cos(x)]\n",
    "\n",
    "y1_0=0\n",
    "y2_0=0\n",
    "S_0 = (y1_0,y2_0)\n",
    "x = np.linspace(0,1,100)\n",
    "sol = odeint(dSdx,S_0,x)\n",
    "y1 = sol.T[0]\n",
    "y2 = sol.T[1]\n",
    "plt.plot(x,y1)\n",
    "plt.plot(x,y2)"
   ]
  },
  {
   "cell_type": "markdown",
   "id": "ba4729a8",
   "metadata": {},
   "source": [
    "# Linear Algebra"
   ]
  },
  {
   "cell_type": "code",
   "execution_count": 95,
   "id": "4e04ea0e",
   "metadata": {},
   "outputs": [
    {
     "data": {
      "text/plain": [
       "array([ 1.33333333, -0.66666667,  2.66666667, -1.33333333])"
      ]
     },
     "execution_count": 95,
     "metadata": {},
     "output_type": "execute_result"
    }
   ],
   "source": [
    "from scipy.linalg import solve_triangular\n",
    "a = np.array([[3,0,0,0],\n",
    "              [2,1,0,0],\n",
    "              [1,0,1,0],\n",
    "              [1,1,1,1]])\n",
    "b = np.array([4,2,4,2])\n",
    "x =solve_triangular(a,b,lower = True)\n",
    "x"
   ]
  },
  {
   "cell_type": "markdown",
   "id": "007b02fc",
   "metadata": {},
   "source": [
    "# Eigenvalue Problem"
   ]
  },
  {
   "cell_type": "code",
   "execution_count": 96,
   "id": "af5e1c6b",
   "metadata": {},
   "outputs": [],
   "source": [
    "from scipy.linalg import eigh_tridiagonal"
   ]
  },
  {
   "cell_type": "code",
   "execution_count": 97,
   "id": "f51b4532",
   "metadata": {},
   "outputs": [],
   "source": [
    "d = 3*np.ones(4)\n",
    "e = -1*np.ones(3)\n",
    "w,v = eigh_tridiagonal(d,e)"
   ]
  },
  {
   "cell_type": "code",
   "execution_count": 99,
   "id": "b4d44813",
   "metadata": {},
   "outputs": [
    {
     "data": {
      "text/plain": [
       "array([[ 0.37174803,  0.60150096,  0.60150096,  0.37174803],\n",
       "       [ 0.60150096,  0.37174803, -0.37174803, -0.60150096],\n",
       "       [ 0.60150096, -0.37174803, -0.37174803,  0.60150096],\n",
       "       [ 0.37174803, -0.60150096,  0.60150096, -0.37174803]])"
      ]
     },
     "execution_count": 99,
     "metadata": {},
     "output_type": "execute_result"
    }
   ],
   "source": [
    "v.T"
   ]
  },
  {
   "cell_type": "code",
   "execution_count": 100,
   "id": "e3d7b010",
   "metadata": {},
   "outputs": [],
   "source": [
    "A = np.diag(d) + np.diag(e,k=1)+np.diag(e,k=-1)"
   ]
  },
  {
   "cell_type": "code",
   "execution_count": 105,
   "id": "934a96b2",
   "metadata": {},
   "outputs": [
    {
     "data": {
      "text/plain": [
       "array([ 1.43275483,  0.88549118, -0.88549118, -1.43275483])"
      ]
     },
     "execution_count": 105,
     "metadata": {},
     "output_type": "execute_result"
    }
   ],
   "source": [
    "A@v.T[1]"
   ]
  },
  {
   "cell_type": "code",
   "execution_count": 106,
   "id": "e9036fc6",
   "metadata": {},
   "outputs": [
    {
     "data": {
      "text/plain": [
       "array([ 1.43275483,  0.88549118, -0.88549118, -1.43275483])"
      ]
     },
     "execution_count": 106,
     "metadata": {},
     "output_type": "execute_result"
    }
   ],
   "source": [
    "w[1]*v.T[1]"
   ]
  }
 ],
 "metadata": {
  "kernelspec": {
   "display_name": "Python 3 (ipykernel)",
   "language": "python",
   "name": "python3"
  },
  "language_info": {
   "codemirror_mode": {
    "name": "ipython",
    "version": 3
   },
   "file_extension": ".py",
   "mimetype": "text/x-python",
   "name": "python",
   "nbconvert_exporter": "python",
   "pygments_lexer": "ipython3",
   "version": "3.9.5"
  }
 },
 "nbformat": 4,
 "nbformat_minor": 5
}
