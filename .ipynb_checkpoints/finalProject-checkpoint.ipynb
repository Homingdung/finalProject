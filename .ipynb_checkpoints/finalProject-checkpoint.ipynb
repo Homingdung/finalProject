{
 "cells": [
  {
   "cell_type": "markdown",
   "id": "e9efc687",
   "metadata": {},
   "source": [
    "# Introduction"
   ]
  },
  {
   "cell_type": "markdown",
   "id": "3441c037",
   "metadata": {},
   "source": [
    "# Literature Review"
   ]
  },
  {
   "cell_type": "markdown",
   "id": "17a96740",
   "metadata": {},
   "source": [
    "# Exploratory analysis"
   ]
  },
  {
   "cell_type": "markdown",
   "id": "6a6af9c9",
   "metadata": {},
   "source": [
    "## Mathematical Models"
   ]
  },
  {
   "cell_type": "markdown",
   "id": "105be89b",
   "metadata": {},
   "source": [
    "The action of the network depends on several factor: (Michael B. Elowitz , Stanislas Leibler, 2000)\n",
    "+ trancription rate on repressor concentration\n",
    "+ tranlation rate\n",
    "+ decay rates of protein and mRNA"
   ]
  },
  {
   "cell_type": "markdown",
   "id": "0a028bab",
   "metadata": {},
   "source": [
    "In our model, the rate of change depends on three parts:\n",
    "+ constant production: $\\alpha_i$\n",
    "+ natural degradation with rate: $\\beta_i$\n",
    "+ interaction between three genes: hill function $h(X_i)=\\frac{K_i\\theta_i^n}{\\theta_i^n+X_i^n}$"
   ]
  },
  {
   "cell_type": "markdown",
   "id": "1f45bbe6",
   "metadata": {},
   "source": [
    "rate of change = production - degradation + interactions"
   ]
  },
  {
   "cell_type": "markdown",
   "id": "5b460942",
   "metadata": {},
   "source": [
    "Following the paper 'Dynamics in Genetic Networks', Roderick Edwards, Leon Glass (2015)"
   ]
  },
  {
   "cell_type": "markdown",
   "id": "945cc5dd",
   "metadata": {},
   "source": [
    "$$\\dot{X}_1  = \\alpha_1^0-\\beta_1X_1+\\frac{K_1\\theta_3^n}{\\theta_3^n+X_3^n}$$\n",
    "$$\\dot{X}_2  = \\alpha_2^0-\\beta_2X_2+\\frac{K_2\\theta_1^n}{\\theta_1^n+X_1^n}$$\n",
    "$$\\dot{X}_3  = \\alpha_3^0-\\beta_3X_3+\\frac{K_3\\theta_2^n}{\\theta_2^n+X_2^n}$$"
   ]
  },
  {
   "cell_type": "markdown",
   "id": "66464fa7",
   "metadata": {},
   "source": [
    "## Nondimensionlization"
   ]
  },
  {
   "cell_type": "markdown",
   "id": "2185f48b",
   "metadata": {},
   "source": [
    "\\begin{align}\n",
    "\\frac{dx_i}{dt}=\\alpha_0-x_i+\\frac{\\alpha_1}{1+u_{j_i}^n} \n",
    "\\end{align}"
   ]
  },
  {
   "cell_type": "markdown",
   "id": "255ea286",
   "metadata": {},
   "source": [
    "$$\\frac{du_i}{dt}=-\\beta(u_i-x_i)$$"
   ]
  },
  {
   "cell_type": "markdown",
   "id": "d67da374",
   "metadata": {},
   "source": [
    "Considering 2 genes networks"
   ]
  },
  {
   "cell_type": "code",
   "execution_count": 1,
   "id": "502a9567",
   "metadata": {},
   "outputs": [
    {
     "data": {
      "application/vnd.jupyter.widget-view+json": {
       "model_id": "35aa9eeaf4f5448b87161b51cf7bf71a",
       "version_major": 2,
       "version_minor": 0
      },
      "text/plain": [
       "interactive(children=(FloatSlider(value=10.0, description='x1_0', max=20.0), FloatSlider(value=10.0, descripti…"
      ]
     },
     "metadata": {},
     "output_type": "display_data"
    }
   ],
   "source": [
    "import numpy as np\n",
    "import matplotlib.pyplot as plt\n",
    "from scipy.integrate import odeint\n",
    "from ipywidgets import interactive\n",
    "%matplotlib inline\n",
    "\n",
    "def dxdt(S,t,n,alpha_0,alpha_1,beta):\n",
    "    x1,x2,u1,u2 = S\n",
    "    return [alpha_0-x1+alpha_1/(1+u2**n),alpha_0-x2+alpha_1/(1+u1**n),-beta*(u1-x1),-beta*(u2-x2)]\n",
    "\n",
    "def f(x1_0,x2_0,u1_0,u2_0,n,alpha_0,alpha_1,beta):\n",
    "    S_0=(x1_0,x2_0,u1_0,u2_0)\n",
    "    t = np.linspace(0,20,1000)\n",
    "    sol = odeint(dxdt,S_0,t,(n,alpha_0,alpha_1,beta))\n",
    "    x1 = sol.T[0]\n",
    "    x2 = sol.T[1]\n",
    "    plt.plot(t,x1,'b',label='x1')\n",
    "    plt.plot(t,x2,'g',label='x2')\n",
    "    plt.xlabel('t')\n",
    "    plt.ylabel('x')\n",
    "    plt.title('Exploratory analysis about the numerical solutions')\n",
    "    plt.legend(loc='best')\n",
    "    plt.show()\n",
    "\n",
    "interactive_plot = interactive(f,x1_0=(0,20,0.1),x2_0=(0,20,0.1),u1_0=(1,20,0.1),u2_0=(1,20,0.1),n=(1,10,0.1),alpha_0=(0,10,1),alpha_1=(0,10,1),beta=(0,10,1))\n",
    "output = interactive_plot.children[-1]\n",
    "output.layout.height = '350px'\n",
    "interactive_plot"
   ]
  },
  {
   "cell_type": "markdown",
   "id": "85d88d27",
   "metadata": {},
   "source": [
    "Considering 3 genes networks"
   ]
  },
  {
   "cell_type": "code",
   "execution_count": 14,
   "id": "96cdc07a",
   "metadata": {},
   "outputs": [
    {
     "data": {
      "application/vnd.jupyter.widget-view+json": {
       "model_id": "2d7dfdc01bc74a699450c6e488511924",
       "version_major": 2,
       "version_minor": 0
      },
      "text/plain": [
       "interactive(children=(FloatSlider(value=10.0, description='x1_0', max=20.0), FloatSlider(value=10.0, descripti…"
      ]
     },
     "metadata": {},
     "output_type": "display_data"
    }
   ],
   "source": [
    "import numpy as np\n",
    "import matplotlib.pyplot as plt\n",
    "from scipy.integrate import odeint\n",
    "from ipywidgets import interactive\n",
    "%matplotlib inline\n",
    "\n",
    "def dxdt(S,t,n,alpha_0,alpha_1,beta):\n",
    "    x1,x2,x3,u1,u2,u3 = S\n",
    "    return [alpha_0-x1+alpha_1/(1+u3**n),alpha_0-x2+alpha_1/(1+u2**n),alpha_0-x3+alpha_1/(1+u1**n),-beta*(u1-x1),-beta*(u2-x2), -beta*(u3-x3)]\n",
    "\n",
    "def f(x1_0,x2_0,x3_0,u1_0,u2_0,u3_0,n,alpha_0,alpha_1,beta):\n",
    "    S_0=(x1_0,x2_0,x3_0,u1_0,u2_0,u3_0)\n",
    "    t = np.linspace(0,10,1000)\n",
    "    sol = odeint(dxdt,S_0,t,(n,alpha_0,alpha_1,beta))\n",
    "    x1 = sol.T[0]\n",
    "    x2 = sol.T[1]\n",
    "    x3 = sol.T[2]\n",
    "    plt.plot(t,x1,'b',label='x1')\n",
    "    plt.plot(t,x2,'g',label='x2')\n",
    "    plt.plot(t,x3,'k',label='x3')\n",
    "    plt.xlabel('t')\n",
    "    plt.ylabel('x1,x2,x3')\n",
    "    plt.title('Exploratory analysis about the numerical solutions')\n",
    "    plt.legend(loc='best')\n",
    "    plt.show()\n",
    "\n",
    "interactive_plot = interactive(f,x1_0=(0,20,0.1),x2_0=(0,20,0.1),x3_0=(0,20,0.1),u1_0=(0,20,0.1),u2_0=(0,20,0.1),u3_0=(0,20,0.1),n=(1,10,0.1),alpha_0=(0,10,1),alpha_1=(0.1,10,0.1),beta=(0,10,1))\n",
    "output = interactive_plot.children[-1]\n",
    "output.layout.height = '350px'\n",
    "interactive_plot"
   ]
  },
  {
   "cell_type": "markdown",
   "id": "58c09f64",
   "metadata": {},
   "source": [
    "Generalized model"
   ]
  },
  {
   "cell_type": "markdown",
   "id": "5a92bcdf",
   "metadata": {},
   "source": [
    "$$\\frac{dx_i}{dt}=-x_i+\\frac{\\theta^n}{\\theta^n+x_{i-1}^n}$$"
   ]
  },
  {
   "cell_type": "code",
   "execution_count": 12,
   "id": "c9b16f12",
   "metadata": {},
   "outputs": [
    {
     "data": {
      "application/vnd.jupyter.widget-view+json": {
       "model_id": "97d7fc215be24687b915978d9fdf2ec9",
       "version_major": 2,
       "version_minor": 0
      },
      "text/plain": [
       "interactive(children=(FloatSlider(value=5.0, description='x1_0', max=10.0), FloatSlider(value=5.0, description…"
      ]
     },
     "metadata": {},
     "output_type": "display_data"
    }
   ],
   "source": [
    "import numpy as np\n",
    "import matplotlib.pyplot as plt\n",
    "from scipy.integrate import odeint\n",
    "from ipywidgets import interactive\n",
    "%matplotlib inline\n",
    "\n",
    "def dxdt(S,t,n,alpha,theta):\n",
    "    x1,x2,x3 = S\n",
    "    return [alpha[0]-x1+1/(1+(x3/theta)**n),alpha[1]-x2+1/(1+(x2/theta)**n), alpha[2]-x3+1/(1+(x1/theta)**n)]\n",
    "\n",
    "def f(x1_0,x2_0,x3_0,n,theta):\n",
    "    alpha = [0,0,0]\n",
    "    S_0=(x1_0,x2_0,x3_0)\n",
    "    t = np.linspace(0,10,1000)\n",
    "    sol = odeint(dxdt,S_0,t,(n,alpha,theta))\n",
    "    x1 = sol.T[0]\n",
    "    x2 = sol.T[1]\n",
    "    x3 = sol.T[2]\n",
    "    plt.plot(t,x1,'b',label='x1')\n",
    "    plt.plot(t,x2,'g',label='x2')\n",
    "    plt.plot(t,x3,'k--',label='x3')\n",
    "    plt.title('Exploratory analysis about the numerical solutions')\n",
    "    plt.legend(loc='best')\n",
    "    plt.show()\n",
    "\n",
    "interactive_plot = interactive(f,x1_0=(0,10,0.1),x2_0=(0,10,0.1),x3_0=(0,10,0.1),n=(1,10,1),theta=(0.1,10,0.1))\n",
    "output = interactive_plot.children[-1]\n",
    "output.layout.height = '350px'\n",
    "interactive_plot"
   ]
  },
  {
   "cell_type": "code",
   "execution_count": 11,
   "id": "1fcfbebc",
   "metadata": {},
   "outputs": [],
   "source": []
  },
  {
   "cell_type": "code",
   "execution_count": null,
   "id": "9f6f1f47",
   "metadata": {},
   "outputs": [],
   "source": []
  }
 ],
 "metadata": {
  "kernelspec": {
   "display_name": "Python 3 (ipykernel)",
   "language": "python",
   "name": "python3"
  },
  "language_info": {
   "codemirror_mode": {
    "name": "ipython",
    "version": 3
   },
   "file_extension": ".py",
   "mimetype": "text/x-python",
   "name": "python",
   "nbconvert_exporter": "python",
   "pygments_lexer": "ipython3",
   "version": "3.9.5"
  }
 },
 "nbformat": 4,
 "nbformat_minor": 5
}
