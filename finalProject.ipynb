{
 "cells": [
  {
   "cell_type": "markdown",
   "id": "e9efc687",
   "metadata": {},
   "source": [
    "# Introduction"
   ]
  },
  {
   "cell_type": "markdown",
   "id": "3441c037",
   "metadata": {},
   "source": [
    "# Literature Review"
   ]
  },
  {
   "cell_type": "markdown",
   "id": "17a96740",
   "metadata": {},
   "source": [
    "# Methods"
   ]
  },
  {
   "cell_type": "markdown",
   "id": "6a6af9c9",
   "metadata": {},
   "source": [
    "## Mathematical Models"
   ]
  },
  {
   "cell_type": "markdown",
   "id": "105be89b",
   "metadata": {},
   "source": [
    "The action of the network depends on several factor: (Michael B. Elowitz , Stanislas Leibler, 2000)\n",
    "+ trancription rate on repressor concentration\n",
    "+ tranlation rate\n",
    "+ decay rates of protein and mRNA"
   ]
  },
  {
   "cell_type": "markdown",
   "id": "0a028bab",
   "metadata": {},
   "source": [
    "In our model, the rate of change depends on three parts:\n",
    "+ constant production: $\\alpha_i$\n",
    "+ natural degradation with rate: $\\beta_i$\n",
    "+ interaction between three genes: hill function $h(X_i)=\\frac{K_i\\theta_i^n}{\\theta_i^n+X_i^n}$"
   ]
  },
  {
   "cell_type": "markdown",
   "id": "1f45bbe6",
   "metadata": {},
   "source": [
    "rate of change = production - degradation + interactions"
   ]
  },
  {
   "cell_type": "markdown",
   "id": "945cc5dd",
   "metadata": {},
   "source": [
    "$$\\dot{X}_1  = \\alpha_1^0-\\beta_1X_1+\\frac{K_1\\theta_3^n}{\\theta_3^n+X_3^n}$$\n",
    "$$\\dot{X}_2  = \\alpha_2^0-\\beta_2X_2+\\frac{K_2\\theta_1^n}{\\theta_1^n+X_1^n}$$\n",
    "$$\\dot{X}_3  = \\alpha_3^0-\\beta_3X_3+\\frac{K_3\\theta_2^n}{\\theta_2^n+X_2^n}$$"
   ]
  },
  {
   "cell_type": "markdown",
   "id": "66464fa7",
   "metadata": {},
   "source": [
    "## Nondimensionlization"
   ]
  },
  {
   "cell_type": "markdown",
   "id": "7af67221",
   "metadata": {},
   "source": [
    "choose scaling factors: $X_i=x_i\\theta_i$, $T=1/ \\beta_i$, $\\alpha_i=\\alpha_i^0/K_i$"
   ]
  },
  {
   "cell_type": "markdown",
   "id": "2185f48b",
   "metadata": {},
   "source": [
    "\\begin{align}\n",
    "\\frac{dx_i}{d\\tau}=\\alpha_i-x_i+\\frac{1}{1+x_{i-1}^n} \n",
    "\\end{align}"
   ]
  },
  {
   "cell_type": "markdown",
   "id": "4c30bbc5",
   "metadata": {},
   "source": [
    "Fix points:\n",
    "$$x_1-\\alpha_1=\\frac{1}{1+x_{3}^n}$$\n",
    "$$x_2-\\alpha_2=\\frac{1}{1+x_{1}^n}$$\n",
    "$$x_3-\\alpha_3=\\frac{1}{1+x_{2}^n}$$"
   ]
  },
  {
   "cell_type": "markdown",
   "id": "cef9fc04",
   "metadata": {},
   "source": [
    "## Linear Stability Analysis"
   ]
  },
  {
   "cell_type": "markdown",
   "id": "9f8ced72",
   "metadata": {},
   "source": [
    "## Numerical Solutions"
   ]
  },
  {
   "cell_type": "markdown",
   "id": "99f9b7d9",
   "metadata": {},
   "source": [
    "# Conclusion"
   ]
  },
  {
   "cell_type": "code",
   "execution_count": null,
   "id": "1fcfbebc",
   "metadata": {},
   "outputs": [],
   "source": []
  }
 ],
 "metadata": {
  "kernelspec": {
   "display_name": "Python 3",
   "language": "python",
   "name": "python3"
  },
  "language_info": {
   "codemirror_mode": {
    "name": "ipython",
    "version": 3
   },
   "file_extension": ".py",
   "mimetype": "text/x-python",
   "name": "python",
   "nbconvert_exporter": "python",
   "pygments_lexer": "ipython3",
   "version": "3.8.8"
  }
 },
 "nbformat": 4,
 "nbformat_minor": 5
}
