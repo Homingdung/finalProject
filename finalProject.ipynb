{
 "cells": [
  {
   "cell_type": "markdown",
   "id": "e9efc687",
   "metadata": {},
   "source": [
    "# Introduction"
   ]
  },
  {
   "cell_type": "markdown",
   "id": "3441c037",
   "metadata": {},
   "source": [
    "# Literature Review"
   ]
  },
  {
   "cell_type": "markdown",
   "id": "17a96740",
   "metadata": {},
   "source": [
    "# Exploratory analysis"
   ]
  },
  {
   "cell_type": "markdown",
   "id": "6a6af9c9",
   "metadata": {},
   "source": [
    "## Mathematical Models"
   ]
  },
  {
   "cell_type": "markdown",
   "id": "105be89b",
   "metadata": {},
   "source": [
    "The action of the network depends on several factor: (Michael B. Elowitz , Stanislas Leibler, 2000)\n",
    "+ trancription rate on repressor concentration\n",
    "+ tranlation rate\n",
    "+ decay rates of protein and mRNA"
   ]
  },
  {
   "cell_type": "markdown",
   "id": "0a028bab",
   "metadata": {},
   "source": [
    "In our model, the rate of change depends on three parts:\n",
    "+ constant production: $\\alpha_i$\n",
    "+ natural degradation with rate: $\\beta_i$\n",
    "+ interaction between three genes: hill function $h(X_i)=\\frac{K_i\\theta_i^n}{\\theta_i^n+X_i^n}$"
   ]
  },
  {
   "cell_type": "markdown",
   "id": "1f45bbe6",
   "metadata": {},
   "source": [
    "rate of change = production - degradation + interactions"
   ]
  },
  {
   "cell_type": "markdown",
   "id": "5b460942",
   "metadata": {},
   "source": [
    "Following the paper 'Dynamics in Genetic Networks', Roderick Edwards, Leon Glass (2015)"
   ]
  },
  {
   "cell_type": "markdown",
   "id": "945cc5dd",
   "metadata": {},
   "source": [
    "$$\\dot{X}_1  = \\alpha_1^0-\\beta_1X_1+\\frac{K_1\\theta_3^n}{\\theta_3^n+X_3^n}$$\n",
    "$$\\dot{X}_2  = \\alpha_2^0-\\beta_2X_2+\\frac{K_2\\theta_1^n}{\\theta_1^n+X_1^n}$$\n",
    "$$\\dot{X}_3  = \\alpha_3^0-\\beta_3X_3+\\frac{K_3\\theta_2^n}{\\theta_2^n+X_2^n}$$"
   ]
  },
  {
   "cell_type": "markdown",
   "id": "66464fa7",
   "metadata": {},
   "source": [
    "## Nondimensionlization"
   ]
  },
  {
   "cell_type": "markdown",
   "id": "2185f48b",
   "metadata": {},
   "source": [
    "\\begin{align}\n",
    "\\frac{dm_i}{dt}=\\alpha_0-_i+\\frac{\\alpha_1}{1+p_{j_i}^n}, j_1=3, j_2 =1, j_3=2\n",
    "\\end{align}"
   ]
  },
  {
   "cell_type": "markdown",
   "id": "255ea286",
   "metadata": {},
   "source": [
    "$$\\frac{dp_i}{dt}=-\\beta(p_i-m_i)$$"
   ]
  },
  {
   "cell_type": "markdown",
   "id": "85d88d27",
   "metadata": {},
   "source": [
    "Considering 3 genes networks"
   ]
  },
  {
   "cell_type": "markdown",
   "id": "4aa3cd94",
   "metadata": {},
   "source": [
    "$$m_1(0)=1,5, m_2(0)=1.0, m_3(0)=1.3$$"
   ]
  },
  {
   "cell_type": "code",
   "execution_count": 11,
   "id": "96cdc07a",
   "metadata": {},
   "outputs": [
    {
     "data": {
      "application/vnd.jupyter.widget-view+json": {
       "model_id": "eacbb7e424de41d1a33f8f997bb0f448",
       "version_major": 2,
       "version_minor": 0
      },
      "text/plain": [
       "interactive(children=(FloatSlider(value=15.0, description='p1_0', max=30.0, step=0.01), FloatSlider(value=15.0…"
      ]
     },
     "metadata": {},
     "output_type": "display_data"
    }
   ],
   "source": [
    "import numpy as np\n",
    "import matplotlib.pyplot as plt\n",
    "from scipy.integrate import odeint\n",
    "from ipywidgets import interactive\n",
    "%matplotlib inline\n",
    "\n",
    "def dxdt(S,t,n,alpha_0,alpha_1,beta):\n",
    "    m1,m2,m3,p1,p2,p3 = S\n",
    "    return [alpha_0-m1+alpha_1/(1+p3**n),alpha_0-m2+alpha_1/(1+p1**n),alpha_0-m3+alpha_1/(1+p2**n),-beta*(p1-m1),-beta*(p2-m2), -beta*(p3-m3)]\n",
    "\n",
    "def f(p1_0,p2_0,p3_0,n,alpha_0,alpha_1,beta):\n",
    "    S_0=(1.5,1.0,1.3,p1_0,p2_0,p3_0)\n",
    "    t = np.linspace(0,30,3000)\n",
    "    sol = odeint(dxdt,S_0,t,(n,alpha_0,alpha_1,beta))\n",
    "    m1 = sol.T[0]\n",
    "    m2 = sol.T[1]\n",
    "    m3 = sol.T[2]\n",
    "    p1 = sol.T[3] \n",
    "    p2 = sol.T[4] \n",
    "    p3 = sol.T[5] \n",
    "    plt.plot(t,p1,'b',label='p1')\n",
    "    plt.plot(t,p2,'g',label='p2')\n",
    "    plt.plot(t,p3,'k',label='p3')\n",
    "    plt.xlabel('t')\n",
    "    plt.ylabel('Protein per cell')\n",
    "    plt.title('Exploratory analysis about the numerical solutions')\n",
    "    plt.legend(loc='best')\n",
    "    plt.show()\n",
    "\n",
    "interactive_plot = interactive(f,p1_0=(0,30,0.01),p2_0=(0,30,0.01),p3_0=(0,30,0.01),n=(1,10,0.1),alpha_0=(0,10,0.1),alpha_1=(0.1,100,0.1),beta=(0,10,0.1))\n",
    "output = interactive_plot.children[-1]\n",
    "output.layout.height = '350px'\n",
    "interactive_plot"
   ]
  },
  {
   "cell_type": "markdown",
   "id": "58c09f64",
   "metadata": {},
   "source": [
    "Generalized model"
   ]
  },
  {
   "cell_type": "markdown",
   "id": "5a92bcdf",
   "metadata": {},
   "source": [
    "$$\\frac{dx_i}{dt}=-x_i+\\frac{\\theta^n}{\\theta^n+x_{i-1}^n}$$"
   ]
  },
  {
   "cell_type": "code",
   "execution_count": 31,
   "id": "c9b16f12",
   "metadata": {},
   "outputs": [
    {
     "data": {
      "application/vnd.jupyter.widget-view+json": {
       "model_id": "d581e0c6c6a245f09dabd2ec26d97499",
       "version_major": 2,
       "version_minor": 0
      },
      "text/plain": [
       "interactive(children=(FloatSlider(value=15.0, description='p1_0', max=30.0, step=0.01), FloatSlider(value=15.0…"
      ]
     },
     "metadata": {},
     "output_type": "display_data"
    }
   ],
   "source": [
    "import numpy as np\n",
    "import matplotlib.pyplot as plt\n",
    "from scipy.integrate import odeint\n",
    "from ipywidgets import interactive\n",
    "%matplotlib inline\n",
    "\n",
    "def dxdt(S,t,n,alpha_0,alpha_1,beta):\n",
    "    m1,m2,m3,p1,p2,p3 = S\n",
    "    return [alpha_0-m1+alpha_1/(1+p3**n),alpha_0-m2+alpha_1/(1+p2**n),alpha_0-m3+alpha_1/(1+p1**n),-beta*(p1-m1),-beta*(p2-m2), -beta*(p3-m3)]\n",
    "\n",
    "def f(p1_0,p2_0,p3_0,n,alpha_0,alpha_1,beta):\n",
    "    S_0=(1,1,1,p1_0,p2_0,p3_0)\n",
    "    t = np.linspace(0,10,1000)\n",
    "    sol = odeint(dxdt,S_0,t,(n,alpha_0,alpha_1,beta))\n",
    "    m1 = sol.T[0]\n",
    "    m2 = sol.T[1]\n",
    "    m3 = sol.T[2]\n",
    "    p1 = sol.T[3] \n",
    "    p2 = sol.T[4] \n",
    "    p3 = sol.T[5] \n",
    "    plt.plot(t,m1,'b',label='p1')\n",
    "    plt.plot(t,m2,'g',label='p2')\n",
    "    plt.plot(t,m3,'k',label='p3')\n",
    "    plt.xlabel('t')\n",
    "    plt.ylabel('p1,p2,p3')\n",
    "    plt.title('Exploratory analysis about the numerical solutions')\n",
    "    plt.legend(loc='best')\n",
    "    plt.show()\n",
    "\n",
    "interactive_plot = interactive(f,p1_0=(0,30,0.01),p2_0=(0,30,0.01),p3_0=(0,30,0.01),n=(1,10,0.1),alpha_0=(0,10,0.1),alpha_1=(0.1,1000,0.1),beta=(0,10,0.1))\n",
    "output = interactive_plot.children[-1]\n",
    "output.layout.height = '350px'\n",
    "interactive_plot"
   ]
  },
  {
   "cell_type": "code",
   "execution_count": 27,
   "id": "1fcfbebc",
   "metadata": {},
   "outputs": [],
   "source": [
    "t = np.linspace(0,10,1000)"
   ]
  },
  {
   "cell_type": "code",
   "execution_count": 33,
   "id": "9f6f1f47",
   "metadata": {},
   "outputs": [
    {
     "data": {
      "text/plain": [
       "[<matplotlib.lines.Line2D at 0x11553b100>]"
      ]
     },
     "execution_count": 33,
     "metadata": {},
     "output_type": "execute_result"
    },
    {
     "data": {
      "image/png": "[encoded data removed]",
      "text/plain": [
       "<Figure size 432x288 with 1 Axes>"
      ]
     },
     "metadata": {
      "needs_background": "light"
     },
     "output_type": "display_data"
    }
   ],
   "source": [
    "plt.plot(t,np.sin(t))"
   ]
  },
  {
   "cell_type": "code",
   "execution_count": null,
   "id": "50031940",
   "metadata": {},
   "outputs": [],
   "source": []
  }
 ],
 "metadata": {
  "kernelspec": {
   "display_name": "Python 3 (ipykernel)",
   "language": "python",
   "name": "python3"
  },
  "language_info": {
   "codemirror_mode": {
    "name": "ipython",
    "version": 3
   },
   "file_extension": ".py",
   "mimetype": "text/x-python",
   "name": "python",
   "nbconvert_exporter": "python",
   "pygments_lexer": "ipython3",
   "version": "3.9.5"
  }
 },
 "nbformat": 4,
 "nbformat_minor": 5
}
